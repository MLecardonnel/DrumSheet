{
  "nbformat": 4,
  "nbformat_minor": 0,
  "metadata": {
    "colab": {
      "name": "drum_transcription.ipynb",
      "provenance": [],
      "collapsed_sections": []
    },
    "kernelspec": {
      "name": "python3",
      "display_name": "Python 3",
      "language": "python"
    }
  },
  "cells": [
    {
      "cell_type": "code",
      "metadata": {
        "id": "SNTZEv-vhfUr"
      },
      "source": [
        "import os\n",
        "import shutil\n",
        "import pathlib\n",
        "import numpy as np\n",
        "import pandas as pd\n",
        "import matplotlib.pyplot as plt\n",
        "import tensorflow as tf\n",
        "from scipy.io import wavfile\n",
        "import librosa\n",
        "import subprocess\n",
        "\n",
        "import sys\n",
        "sys.path.insert(1, '../src/')\n",
        "from drum_audio import DrumAudio"
      ],
      "execution_count": 1,
      "outputs": []
    },
    {
      "cell_type": "code",
      "metadata": {
        "id": "xEs2QEuKgRHW"
      },
      "source": [
        "def load_model(model_path):\n",
        "  return tf.keras.models.load_model(model_path)"
      ],
      "execution_count": 2,
      "outputs": []
    },
    {
      "cell_type": "code",
      "metadata": {
        "id": "02cF_f1aBxMm"
      },
      "source": [
        "CY_model = load_model('../models/CY_60epochs')\n",
        "HH_model = load_model('../models/HH_ResNet')\n",
        "KD_model = load_model('../models/KD_ResNet')\n",
        "SD_model = load_model('../models/SD_ResNet')"
      ],
      "execution_count": 3,
      "outputs": []
    },
    {
      "cell_type": "code",
      "metadata": {
        "id": "OW0lJXpHCLje"
      },
      "source": [
        "audio = DrumAudio('../data/drums_audio/MusicDelta_80sRock_Drum.wav')"
      ],
      "execution_count": 4,
      "outputs": []
    },
    {
      "cell_type": "code",
      "metadata": {
        "id": "vJGprA2zCaQW",
        "colab": {
          "base_uri": "https://localhost:8080/"
        },
        "outputId": "3c61b4ed-4015-48b7-8e38-23a12083f94a"
      },
      "source": [
        "transcription = audio.predict_kits(CY_model,HH_model,KD_model,SD_model)"
      ],
      "execution_count": 5,
      "outputs": []
    },
    {
      "cell_type": "code",
      "metadata": {
        "colab": {
          "base_uri": "https://localhost:8080/",
          "height": 424
        },
        "id": "Pj4ITe80DGSl",
        "outputId": "7ecb1103-5e0f-4842-804c-4c0a37a130bb"
      },
      "source": [
        "transcription"
      ],
      "execution_count": 6,
      "outputs": [
        {
          "output_type": "execute_result",
          "data": {
            "text/plain": [
              "         time  index_position  CY  HH  KD  SD\n",
              "0    0.000000               0   0   0   1   0\n",
              "1    0.554989           24475   0   0   1   1\n",
              "2    1.103810           48678   0   0   1   0\n",
              "3    1.657279           73086   0   0   1   1\n",
              "4    2.228571           98280   0   0   1   0\n",
              "5    2.777052          122468   0   0   1   1\n",
              "6    3.315986          146235   0   0   1   0\n",
              "7    3.831859          168985   0   0   1   1\n",
              "8    4.373129          192855   1   0   1   0\n",
              "9    4.880884          215247   0   0   1   1\n",
              "10   5.469070          241186   0   0   1   0\n",
              "11   5.976712          263573   0   0   1   1\n",
              "12   6.556871          289158   0   0   1   0\n",
              "13   7.088685          312611   0   0   1   1\n",
              "14   7.614490          335799   0   0   1   0\n",
              "15   8.198889          361571   0   0   1   1\n",
              "16   8.680023          382789   0   1   1   0\n",
              "17   8.751043          385921   0   0   1   0\n",
              "18   9.275964          409070   0   0   1   1\n",
              "19   9.788299          431664   0   0   1   0\n",
              "20  10.364717          457084   0   0   1   1\n",
              "21  10.928073          481928   0   0   1   0\n",
              "22  11.478503          506202   0   0   1   1\n",
              "23  12.015533          529885   0   0   1   0\n",
              "24  12.572222          554435   0   0   1   1\n",
              "25  13.108458          578083   1   0   1   0\n",
              "26  13.649229          601931   0   0   1   1\n",
              "27  14.207120          626534   0   0   1   0\n",
              "28  14.688776          647775   0   0   1   0\n",
              "29  15.283719          674012   0   0   1   0\n",
              "..        ...             ...  ..  ..  ..  ..\n",
              "45  22.352608          985750   0   0   1   1\n",
              "46  22.920136         1010778   0   0   1   0\n",
              "47  23.479683         1035454   0   0   1   1\n",
              "48  24.031905         1059807   1   0   1   0\n",
              "49  24.552766         1082777   0   0   1   1\n",
              "50  25.095488         1106711   0   0   1   0\n",
              "51  25.602290         1129061   0   0   0   1\n",
              "52  25.656780         1131464   0   0   1   1\n",
              "53  26.204082         1155600   0   0   1   0\n",
              "54  26.724399         1178546   0   0   1   0\n",
              "55  26.758594         1180054   0   0   1   1\n",
              "56  27.306576         1204220   0   0   1   0\n",
              "57  27.827687         1227201   0   0   1   1\n",
              "58  28.346939         1250100   0   0   1   0\n",
              "59  28.388027         1251912   0   0   1   0\n",
              "60  28.875760         1273421   0   0   1   1\n",
              "61  29.465714         1299438   0   0   1   0\n",
              "62  30.036100         1324592   0   0   1   1\n",
              "63  30.581202         1348631   1   0   1   0\n",
              "64  31.051111         1369354   1   0   1   1\n",
              "65  31.651497         1395831   0   0   1   0\n",
              "66  32.189660         1419564   0   0   1   1\n",
              "67  32.725805         1443208   0   0   1   0\n",
              "68  33.278912         1467600   0   0   1   1\n",
              "69  33.762834         1488941   0   0   1   0\n",
              "70  34.413220         1517623   0   0   1   1\n",
              "71  34.514308         1522081   0   0   0   1\n",
              "72  34.561247         1524151   0   0   0   1\n",
              "73  34.663923         1528679   0   0   0   1\n",
              "74  34.762426         1533023   0   0   0   1\n",
              "\n",
              "[75 rows x 6 columns]"
            ],
            "text/html": "<div>\n<style scoped>\n    .dataframe tbody tr th:only-of-type {\n        vertical-align: middle;\n    }\n\n    .dataframe tbody tr th {\n        vertical-align: top;\n    }\n\n    .dataframe thead th {\n        text-align: right;\n    }\n</style>\n<table border=\"1\" class=\"dataframe\">\n  <thead>\n    <tr style=\"text-align: right;\">\n      <th></th>\n      <th>time</th>\n      <th>index_position</th>\n      <th>CY</th>\n      <th>HH</th>\n      <th>KD</th>\n      <th>SD</th>\n    </tr>\n  </thead>\n  <tbody>\n    <tr>\n      <th>0</th>\n      <td>0.000000</td>\n      <td>0</td>\n      <td>0</td>\n      <td>0</td>\n      <td>1</td>\n      <td>0</td>\n    </tr>\n    <tr>\n      <th>1</th>\n      <td>0.554989</td>\n      <td>24475</td>\n      <td>0</td>\n      <td>0</td>\n      <td>1</td>\n      <td>1</td>\n    </tr>\n    <tr>\n      <th>2</th>\n      <td>1.103810</td>\n      <td>48678</td>\n      <td>0</td>\n      <td>0</td>\n      <td>1</td>\n      <td>0</td>\n    </tr>\n    <tr>\n      <th>3</th>\n      <td>1.657279</td>\n      <td>73086</td>\n      <td>0</td>\n      <td>0</td>\n      <td>1</td>\n      <td>1</td>\n    </tr>\n    <tr>\n      <th>4</th>\n      <td>2.228571</td>\n      <td>98280</td>\n      <td>0</td>\n      <td>0</td>\n      <td>1</td>\n      <td>0</td>\n    </tr>\n    <tr>\n      <th>5</th>\n      <td>2.777052</td>\n      <td>122468</td>\n      <td>0</td>\n      <td>0</td>\n      <td>1</td>\n      <td>1</td>\n    </tr>\n    <tr>\n      <th>6</th>\n      <td>3.315986</td>\n      <td>146235</td>\n      <td>0</td>\n      <td>0</td>\n      <td>1</td>\n      <td>0</td>\n    </tr>\n    <tr>\n      <th>7</th>\n      <td>3.831859</td>\n      <td>168985</td>\n      <td>0</td>\n      <td>0</td>\n      <td>1</td>\n      <td>1</td>\n    </tr>\n    <tr>\n      <th>8</th>\n      <td>4.373129</td>\n      <td>192855</td>\n      <td>1</td>\n      <td>0</td>\n      <td>1</td>\n      <td>0</td>\n    </tr>\n    <tr>\n      <th>9</th>\n      <td>4.880884</td>\n      <td>215247</td>\n      <td>0</td>\n      <td>0</td>\n      <td>1</td>\n      <td>1</td>\n    </tr>\n    <tr>\n      <th>10</th>\n      <td>5.469070</td>\n      <td>241186</td>\n      <td>0</td>\n      <td>0</td>\n      <td>1</td>\n      <td>0</td>\n    </tr>\n    <tr>\n      <th>11</th>\n      <td>5.976712</td>\n      <td>263573</td>\n      <td>0</td>\n      <td>0</td>\n      <td>1</td>\n      <td>1</td>\n    </tr>\n    <tr>\n      <th>12</th>\n      <td>6.556871</td>\n      <td>289158</td>\n      <td>0</td>\n      <td>0</td>\n      <td>1</td>\n      <td>0</td>\n    </tr>\n    <tr>\n      <th>13</th>\n      <td>7.088685</td>\n      <td>312611</td>\n      <td>0</td>\n      <td>0</td>\n      <td>1</td>\n      <td>1</td>\n    </tr>\n    <tr>\n      <th>14</th>\n      <td>7.614490</td>\n      <td>335799</td>\n      <td>0</td>\n      <td>0</td>\n      <td>1</td>\n      <td>0</td>\n    </tr>\n    <tr>\n      <th>15</th>\n      <td>8.198889</td>\n      <td>361571</td>\n      <td>0</td>\n      <td>0</td>\n      <td>1</td>\n      <td>1</td>\n    </tr>\n    <tr>\n      <th>16</th>\n      <td>8.680023</td>\n      <td>382789</td>\n      <td>0</td>\n      <td>1</td>\n      <td>1</td>\n      <td>0</td>\n    </tr>\n    <tr>\n      <th>17</th>\n      <td>8.751043</td>\n      <td>385921</td>\n      <td>0</td>\n      <td>0</td>\n      <td>1</td>\n      <td>0</td>\n    </tr>\n    <tr>\n      <th>18</th>\n      <td>9.275964</td>\n      <td>409070</td>\n      <td>0</td>\n      <td>0</td>\n      <td>1</td>\n      <td>1</td>\n    </tr>\n    <tr>\n      <th>19</th>\n      <td>9.788299</td>\n      <td>431664</td>\n      <td>0</td>\n      <td>0</td>\n      <td>1</td>\n      <td>0</td>\n    </tr>\n    <tr>\n      <th>20</th>\n      <td>10.364717</td>\n      <td>457084</td>\n      <td>0</td>\n      <td>0</td>\n      <td>1</td>\n      <td>1</td>\n    </tr>\n    <tr>\n      <th>21</th>\n      <td>10.928073</td>\n      <td>481928</td>\n      <td>0</td>\n      <td>0</td>\n      <td>1</td>\n      <td>0</td>\n    </tr>\n    <tr>\n      <th>22</th>\n      <td>11.478503</td>\n      <td>506202</td>\n      <td>0</td>\n      <td>0</td>\n      <td>1</td>\n      <td>1</td>\n    </tr>\n    <tr>\n      <th>23</th>\n      <td>12.015533</td>\n      <td>529885</td>\n      <td>0</td>\n      <td>0</td>\n      <td>1</td>\n      <td>0</td>\n    </tr>\n    <tr>\n      <th>24</th>\n      <td>12.572222</td>\n      <td>554435</td>\n      <td>0</td>\n      <td>0</td>\n      <td>1</td>\n      <td>1</td>\n    </tr>\n    <tr>\n      <th>25</th>\n      <td>13.108458</td>\n      <td>578083</td>\n      <td>1</td>\n      <td>0</td>\n      <td>1</td>\n      <td>0</td>\n    </tr>\n    <tr>\n      <th>26</th>\n      <td>13.649229</td>\n      <td>601931</td>\n      <td>0</td>\n      <td>0</td>\n      <td>1</td>\n      <td>1</td>\n    </tr>\n    <tr>\n      <th>27</th>\n      <td>14.207120</td>\n      <td>626534</td>\n      <td>0</td>\n      <td>0</td>\n      <td>1</td>\n      <td>0</td>\n    </tr>\n    <tr>\n      <th>28</th>\n      <td>14.688776</td>\n      <td>647775</td>\n      <td>0</td>\n      <td>0</td>\n      <td>1</td>\n      <td>0</td>\n    </tr>\n    <tr>\n      <th>29</th>\n      <td>15.283719</td>\n      <td>674012</td>\n      <td>0</td>\n      <td>0</td>\n      <td>1</td>\n      <td>0</td>\n    </tr>\n    <tr>\n      <th>...</th>\n      <td>...</td>\n      <td>...</td>\n      <td>...</td>\n      <td>...</td>\n      <td>...</td>\n      <td>...</td>\n    </tr>\n    <tr>\n      <th>45</th>\n      <td>22.352608</td>\n      <td>985750</td>\n      <td>0</td>\n      <td>0</td>\n      <td>1</td>\n      <td>1</td>\n    </tr>\n    <tr>\n      <th>46</th>\n      <td>22.920136</td>\n      <td>1010778</td>\n      <td>0</td>\n      <td>0</td>\n      <td>1</td>\n      <td>0</td>\n    </tr>\n    <tr>\n      <th>47</th>\n      <td>23.479683</td>\n      <td>1035454</td>\n      <td>0</td>\n      <td>0</td>\n      <td>1</td>\n      <td>1</td>\n    </tr>\n    <tr>\n      <th>48</th>\n      <td>24.031905</td>\n      <td>1059807</td>\n      <td>1</td>\n      <td>0</td>\n      <td>1</td>\n      <td>0</td>\n    </tr>\n    <tr>\n      <th>49</th>\n      <td>24.552766</td>\n      <td>1082777</td>\n      <td>0</td>\n      <td>0</td>\n      <td>1</td>\n      <td>1</td>\n    </tr>\n    <tr>\n      <th>50</th>\n      <td>25.095488</td>\n      <td>1106711</td>\n      <td>0</td>\n      <td>0</td>\n      <td>1</td>\n      <td>0</td>\n    </tr>\n    <tr>\n      <th>51</th>\n      <td>25.602290</td>\n      <td>1129061</td>\n      <td>0</td>\n      <td>0</td>\n      <td>0</td>\n      <td>1</td>\n    </tr>\n    <tr>\n      <th>52</th>\n      <td>25.656780</td>\n      <td>1131464</td>\n      <td>0</td>\n      <td>0</td>\n      <td>1</td>\n      <td>1</td>\n    </tr>\n    <tr>\n      <th>53</th>\n      <td>26.204082</td>\n      <td>1155600</td>\n      <td>0</td>\n      <td>0</td>\n      <td>1</td>\n      <td>0</td>\n    </tr>\n    <tr>\n      <th>54</th>\n      <td>26.724399</td>\n      <td>1178546</td>\n      <td>0</td>\n      <td>0</td>\n      <td>1</td>\n      <td>0</td>\n    </tr>\n    <tr>\n      <th>55</th>\n      <td>26.758594</td>\n      <td>1180054</td>\n      <td>0</td>\n      <td>0</td>\n      <td>1</td>\n      <td>1</td>\n    </tr>\n    <tr>\n      <th>56</th>\n      <td>27.306576</td>\n      <td>1204220</td>\n      <td>0</td>\n      <td>0</td>\n      <td>1</td>\n      <td>0</td>\n    </tr>\n    <tr>\n      <th>57</th>\n      <td>27.827687</td>\n      <td>1227201</td>\n      <td>0</td>\n      <td>0</td>\n      <td>1</td>\n      <td>1</td>\n    </tr>\n    <tr>\n      <th>58</th>\n      <td>28.346939</td>\n      <td>1250100</td>\n      <td>0</td>\n      <td>0</td>\n      <td>1</td>\n      <td>0</td>\n    </tr>\n    <tr>\n      <th>59</th>\n      <td>28.388027</td>\n      <td>1251912</td>\n      <td>0</td>\n      <td>0</td>\n      <td>1</td>\n      <td>0</td>\n    </tr>\n    <tr>\n      <th>60</th>\n      <td>28.875760</td>\n      <td>1273421</td>\n      <td>0</td>\n      <td>0</td>\n      <td>1</td>\n      <td>1</td>\n    </tr>\n    <tr>\n      <th>61</th>\n      <td>29.465714</td>\n      <td>1299438</td>\n      <td>0</td>\n      <td>0</td>\n      <td>1</td>\n      <td>0</td>\n    </tr>\n    <tr>\n      <th>62</th>\n      <td>30.036100</td>\n      <td>1324592</td>\n      <td>0</td>\n      <td>0</td>\n      <td>1</td>\n      <td>1</td>\n    </tr>\n    <tr>\n      <th>63</th>\n      <td>30.581202</td>\n      <td>1348631</td>\n      <td>1</td>\n      <td>0</td>\n      <td>1</td>\n      <td>0</td>\n    </tr>\n    <tr>\n      <th>64</th>\n      <td>31.051111</td>\n      <td>1369354</td>\n      <td>1</td>\n      <td>0</td>\n      <td>1</td>\n      <td>1</td>\n    </tr>\n    <tr>\n      <th>65</th>\n      <td>31.651497</td>\n      <td>1395831</td>\n      <td>0</td>\n      <td>0</td>\n      <td>1</td>\n      <td>0</td>\n    </tr>\n    <tr>\n      <th>66</th>\n      <td>32.189660</td>\n      <td>1419564</td>\n      <td>0</td>\n      <td>0</td>\n      <td>1</td>\n      <td>1</td>\n    </tr>\n    <tr>\n      <th>67</th>\n      <td>32.725805</td>\n      <td>1443208</td>\n      <td>0</td>\n      <td>0</td>\n      <td>1</td>\n      <td>0</td>\n    </tr>\n    <tr>\n      <th>68</th>\n      <td>33.278912</td>\n      <td>1467600</td>\n      <td>0</td>\n      <td>0</td>\n      <td>1</td>\n      <td>1</td>\n    </tr>\n    <tr>\n      <th>69</th>\n      <td>33.762834</td>\n      <td>1488941</td>\n      <td>0</td>\n      <td>0</td>\n      <td>1</td>\n      <td>0</td>\n    </tr>\n    <tr>\n      <th>70</th>\n      <td>34.413220</td>\n      <td>1517623</td>\n      <td>0</td>\n      <td>0</td>\n      <td>1</td>\n      <td>1</td>\n    </tr>\n    <tr>\n      <th>71</th>\n      <td>34.514308</td>\n      <td>1522081</td>\n      <td>0</td>\n      <td>0</td>\n      <td>0</td>\n      <td>1</td>\n    </tr>\n    <tr>\n      <th>72</th>\n      <td>34.561247</td>\n      <td>1524151</td>\n      <td>0</td>\n      <td>0</td>\n      <td>0</td>\n      <td>1</td>\n    </tr>\n    <tr>\n      <th>73</th>\n      <td>34.663923</td>\n      <td>1528679</td>\n      <td>0</td>\n      <td>0</td>\n      <td>0</td>\n      <td>1</td>\n    </tr>\n    <tr>\n      <th>74</th>\n      <td>34.762426</td>\n      <td>1533023</td>\n      <td>0</td>\n      <td>0</td>\n      <td>0</td>\n      <td>1</td>\n    </tr>\n  </tbody>\n</table>\n<p>75 rows × 6 columns</p>\n</div>"
          },
          "metadata": {},
          "execution_count": 6
        }
      ]
    },
    {
      "cell_type": "code",
      "execution_count": 7,
      "metadata": {},
      "outputs": [],
      "source": [
        "audio.get_lilypond_transcription(transcription)"
      ]
    },
    {
      "cell_type": "code",
      "execution_count": 9,
      "metadata": {},
      "outputs": [],
      "source": [
        "audio.get_pdf_transcription()"
      ]
    }
  ]
}